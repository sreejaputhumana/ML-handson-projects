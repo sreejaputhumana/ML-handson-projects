{
 "cells": [
  {
   "cell_type": "markdown",
   "metadata": {},
   "source": [
    "# Disaster Tweets Prediction - Glove and LSTM"
   ]
  },
  {
   "cell_type": "markdown",
   "metadata": {},
   "source": [
    "# Objective\n",
    "The aim is to develop a model for predicting whether a tweet is about a real disaster or not."
   ]
  },
  {
   "cell_type": "markdown",
   "metadata": {},
   "source": [
    "# Rationale\n",
    "Inspired from the below mentioned research article:\n",
    "\n",
    "Aryan Karnati, Shashank Reddy Boyapally, D. S. K. . Natural Language Processing with Disaster tweets using Bidirectional LSTM. J. XI’AN Univ. Archit. Technol. 13, 1–6 (2021)."
   ]
  },
  {
   "cell_type": "code",
   "execution_count": 134,
   "metadata": {},
   "outputs": [],
   "source": [
    "#import libraries \n",
    "import numpy as np\n",
    "import pandas as pd\n",
    "import matplotlib.pyplot as plt\n",
    "import warnings\n",
    "warnings.filterwarnings('ignore')\n",
    "import re\n",
    "import nltk\n",
    "import seaborn as sns\n",
    "from nltk.stem import PorterStemmer\n",
    "from nltk.util import ngrams\n",
    "from nltk.corpus import stopwords\n",
    "from sklearn.model_selection import train_test_split\n",
    "import keras\n",
    "from keras.models import Sequential\n",
    "from tensorflow.keras.preprocessing.text import Tokenizer\n",
    "from nltk.tokenize import word_tokenize\n",
    "from tensorflow.keras.preprocessing.sequence import  pad_sequences\n",
    "from tensorflow.keras.models import Model,Sequential\n",
    "from keras.layers.embeddings import Embedding\n",
    "from keras import Input\n",
    "from keras.layers import ( Dense, Dropout, Embedding, LSTM, Flatten, Bidirectional,BatchNormalization,Flatten, \n",
    "                          GlobalMaxPool1D )\n",
    "from keras.models import Model\n",
    "from sklearn.metrics import confusion_matrix,accuracy_score,classification_report"
   ]
  },
  {
   "cell_type": "markdown",
   "metadata": {},
   "source": [
    "# Data loading"
   ]
  },
  {
   "cell_type": "code",
   "execution_count": 58,
   "metadata": {},
   "outputs": [],
   "source": [
    "#load data set\n",
    "\n",
    "train_data = pd.read_csv(\"C:/Users/sreej/Documents/Kaggle/NLP Tweet classification/Data/train.csv\")\n",
    "test_data = pd.read_csv(\"C:/Users/sreej/Documents/Kaggle/NLP Tweet classification/Data/test.csv\")"
   ]
  },
  {
   "cell_type": "code",
   "execution_count": 59,
   "metadata": {},
   "outputs": [
    {
     "data": {
      "text/html": [
       "<div>\n",
       "<style scoped>\n",
       "    .dataframe tbody tr th:only-of-type {\n",
       "        vertical-align: middle;\n",
       "    }\n",
       "\n",
       "    .dataframe tbody tr th {\n",
       "        vertical-align: top;\n",
       "    }\n",
       "\n",
       "    .dataframe thead th {\n",
       "        text-align: right;\n",
       "    }\n",
       "</style>\n",
       "<table border=\"1\" class=\"dataframe\">\n",
       "  <thead>\n",
       "    <tr style=\"text-align: right;\">\n",
       "      <th></th>\n",
       "      <th>id</th>\n",
       "      <th>keyword</th>\n",
       "      <th>location</th>\n",
       "      <th>text</th>\n",
       "      <th>target</th>\n",
       "    </tr>\n",
       "  </thead>\n",
       "  <tbody>\n",
       "    <tr>\n",
       "      <th>0</th>\n",
       "      <td>1</td>\n",
       "      <td>NaN</td>\n",
       "      <td>NaN</td>\n",
       "      <td>Our Deeds are the Reason of this #earthquake M...</td>\n",
       "      <td>1</td>\n",
       "    </tr>\n",
       "    <tr>\n",
       "      <th>1</th>\n",
       "      <td>4</td>\n",
       "      <td>NaN</td>\n",
       "      <td>NaN</td>\n",
       "      <td>Forest fire near La Ronge Sask. Canada</td>\n",
       "      <td>1</td>\n",
       "    </tr>\n",
       "    <tr>\n",
       "      <th>2</th>\n",
       "      <td>5</td>\n",
       "      <td>NaN</td>\n",
       "      <td>NaN</td>\n",
       "      <td>All residents asked to 'shelter in place' are ...</td>\n",
       "      <td>1</td>\n",
       "    </tr>\n",
       "    <tr>\n",
       "      <th>3</th>\n",
       "      <td>6</td>\n",
       "      <td>NaN</td>\n",
       "      <td>NaN</td>\n",
       "      <td>13,000 people receive #wildfires evacuation or...</td>\n",
       "      <td>1</td>\n",
       "    </tr>\n",
       "    <tr>\n",
       "      <th>4</th>\n",
       "      <td>7</td>\n",
       "      <td>NaN</td>\n",
       "      <td>NaN</td>\n",
       "      <td>Just got sent this photo from Ruby #Alaska as ...</td>\n",
       "      <td>1</td>\n",
       "    </tr>\n",
       "  </tbody>\n",
       "</table>\n",
       "</div>"
      ],
      "text/plain": [
       "   id keyword location                                               text  \\\n",
       "0   1     NaN      NaN  Our Deeds are the Reason of this #earthquake M...   \n",
       "1   4     NaN      NaN             Forest fire near La Ronge Sask. Canada   \n",
       "2   5     NaN      NaN  All residents asked to 'shelter in place' are ...   \n",
       "3   6     NaN      NaN  13,000 people receive #wildfires evacuation or...   \n",
       "4   7     NaN      NaN  Just got sent this photo from Ruby #Alaska as ...   \n",
       "\n",
       "   target  \n",
       "0       1  \n",
       "1       1  \n",
       "2       1  \n",
       "3       1  \n",
       "4       1  "
      ]
     },
     "execution_count": 59,
     "metadata": {},
     "output_type": "execute_result"
    }
   ],
   "source": [
    "train_data.head()"
   ]
  },
  {
   "cell_type": "markdown",
   "metadata": {},
   "source": [
    "# Data cleansing and EDA"
   ]
  },
  {
   "cell_type": "code",
   "execution_count": 128,
   "metadata": {},
   "outputs": [
    {
     "data": {
      "image/png": "[encoded data removed]",
      "text/plain": [
       "<Figure size 432x288 with 1 Axes>"
      ]
     },
     "metadata": {
      "needs_background": "light"
     },
     "output_type": "display_data"
    }
   ],
   "source": [
    "#Plot the disaster tweets(training set) \n",
    "sns.countplot(x=train_data['target']);"
   ]
  },
  {
   "cell_type": "code",
   "execution_count": 60,
   "metadata": {},
   "outputs": [
    {
     "data": {
      "text/html": [
       "<div>\n",
       "<style scoped>\n",
       "    .dataframe tbody tr th:only-of-type {\n",
       "        vertical-align: middle;\n",
       "    }\n",
       "\n",
       "    .dataframe tbody tr th {\n",
       "        vertical-align: top;\n",
       "    }\n",
       "\n",
       "    .dataframe thead th {\n",
       "        text-align: right;\n",
       "    }\n",
       "</style>\n",
       "<table border=\"1\" class=\"dataframe\">\n",
       "  <thead>\n",
       "    <tr style=\"text-align: right;\">\n",
       "      <th></th>\n",
       "      <th>id</th>\n",
       "      <th>keyword</th>\n",
       "      <th>location</th>\n",
       "      <th>text</th>\n",
       "      <th>target</th>\n",
       "    </tr>\n",
       "  </thead>\n",
       "  <tbody>\n",
       "  </tbody>\n",
       "</table>\n",
       "</div>"
      ],
      "text/plain": [
       "Empty DataFrame\n",
       "Columns: [id, keyword, location, text, target]\n",
       "Index: []"
      ]
     },
     "execution_count": 60,
     "metadata": {},
     "output_type": "execute_result"
    }
   ],
   "source": [
    "# Checking if any duplicate records are present in both test and train data\n",
    "test_duplicate = test_data[test_data.duplicated()] \n",
    "test_duplicate\n",
    "\n",
    "train_duplicate = train_data[train_data.duplicated()] \n",
    "train_duplicate"
   ]
  },
  {
   "cell_type": "markdown",
   "metadata": {},
   "source": [
    "We found no duplicates in both test and train datasets, hence we proceed for further cleansing of data."
   ]
  },
  {
   "cell_type": "code",
   "execution_count": 61,
   "metadata": {},
   "outputs": [],
   "source": [
    "#Remove unwanted colums\n",
    "test_data = test_data.drop('location',axis = 1) \n",
    "train_data = train_data.drop('location',axis = 1)"
   ]
  },
  {
   "cell_type": "code",
   "execution_count": 62,
   "metadata": {},
   "outputs": [],
   "source": [
    "def cleanhtml(raw_html):\n",
    "  cleanr = re.compile('<.*?>')\n",
    "  cleantext = re.sub(cleanr, '', raw_html)\n",
    "  return cleantext"
   ]
  },
  {
   "cell_type": "code",
   "execution_count": 63,
   "metadata": {},
   "outputs": [],
   "source": [
    "#Remove URL and html tags from the text\n",
    "train_data['clean_text'] = train_data['text'].apply(cleanhtml)\n",
    "\n",
    "test_data['clean_text'] = test_data['text'].apply(cleanhtml)"
   ]
  },
  {
   "cell_type": "code",
   "execution_count": 64,
   "metadata": {},
   "outputs": [],
   "source": [
    "def cleansing_data(text):\n",
    "    cln_text = re.sub('[^a-zA-Z \\n\\.]', '', text)\n",
    "    cln_text = cln_text.lower()\n",
    "    cln_text = cln_text.split()\n",
    "    cln_text = ' '.join(cln_text)   \n",
    "    return cln_text"
   ]
  },
  {
   "cell_type": "code",
   "execution_count": 65,
   "metadata": {},
   "outputs": [],
   "source": [
    "#Remove speicial characters\n",
    "test_data['clean_text'] = test_data['clean_text'].apply(cleansing_data)\n",
    "train_data['clean_text'] = train_data['clean_text'].apply(cleansing_data)"
   ]
  },
  {
   "cell_type": "code",
   "execution_count": 66,
   "metadata": {},
   "outputs": [],
   "source": [
    "def filter_text(text):\n",
    "    text = text.split()\n",
    "    text = [ps.stem(word) for word in text if word not in stopwords.words('english')]\n",
    "    text = ' '.join(text)\n",
    "    return text"
   ]
  },
  {
   "cell_type": "code",
   "execution_count": 67,
   "metadata": {},
   "outputs": [],
   "source": [
    "#Remove suffixes and prefixes\n",
    "ps = PorterStemmer()\n",
    "\n",
    "train_data['filtered_text'] = train_data['clean_text'].apply(filter_text)\n",
    "test_data['filtered_text'] =  test_data['clean_text'].apply(filter_text)"
   ]
  },
  {
   "cell_type": "code",
   "execution_count": 82,
   "metadata": {},
   "outputs": [],
   "source": [
    "tweet = train_data['filtered_text']\n",
    "test = test_data['filtered_text']\n",
    "sentiments = train_data['target']  "
   ]
  },
  {
   "cell_type": "markdown",
   "metadata": {},
   "source": [
    "# Model\n",
    "We need to perform tokenization - the processing of segmenting text into sentences of words. In the process we throw away punctuation and extra symbols too. The benefit of tokenization is that it gets the text into a format that is easier to convert to raw numbers, which can actually be used for processing"
   ]
  },
  {
   "cell_type": "code",
   "execution_count": 83,
   "metadata": {},
   "outputs": [],
   "source": [
    "\n",
    "word_tokenizer = Tokenizer()\n",
    "word_tokenizer.fit_on_texts(tweet)\n",
    "vocab_length = len(word_tokenizer.word_index) + 1\n"
   ]
  },
  {
   "cell_type": "code",
   "execution_count": 84,
   "metadata": {},
   "outputs": [],
   "source": [
    "def embed(corpus): \n",
    "    return word_tokenizer.texts_to_sequences(corpus)"
   ]
  },
  {
   "cell_type": "code",
   "execution_count": 85,
   "metadata": {},
   "outputs": [],
   "source": [
    "longest_train = max(tweet, key=lambda sentence: len(word_tokenize(sentence)))\n",
    "length_long_sentence = len(word_tokenize(longest_train))\n",
    "padded_sentences = pad_sequences(embed(tweet), length_long_sentence, padding='post')\n",
    "test_sentences = pad_sequences(\n",
    "    embed(test), \n",
    "    length_long_sentence,\n",
    "    padding='post'\n",
    ")"
   ]
  },
  {
   "cell_type": "markdown",
   "metadata": {},
   "source": [
    "Global Vectors(GloVE) algorithm is used to obtain the vector epresentation of words. Word2Vec relates the target words to their respective context without carrying any additional informations. In comparisoon with Word2Vec, GloVe builds word embeddings in such a way that a combination of word vectors relates directly to the probability of those words’ co-occurrence in the corpus."
   ]
  },
  {
   "cell_type": "code",
   "execution_count": 86,
   "metadata": {},
   "outputs": [],
   "source": [
    "embeddings_dictionary = dict()\n",
    "embedding_dim = 100\n",
    "glove_file = open('C:/Users/sreej/Documents/Kaggle/NLP Tweet classification/glove file/glove.6B.100d.txt','r', encoding='UTF-8')\n",
    "for line in glove_file:\n",
    "    records = line.split()\n",
    "    word = records[0]\n",
    "    vector_dimensions = np.asarray(records[1:], dtype='float32')\n",
    "    embeddings_dictionary [word] = vector_dimensions\n",
    "glove_file.close()"
   ]
  },
  {
   "cell_type": "code",
   "execution_count": 87,
   "metadata": {},
   "outputs": [],
   "source": [
    "embedding_matrix = np.zeros((vocab_length, embedding_dim))\n",
    "for word, index in word_tokenizer.word_index.items():\n",
    "    embedding_vector = embeddings_dictionary.get(word)\n",
    "    if embedding_vector is not None:\n",
    "        embedding_matrix[index] = embedding_vector"
   ]
  },
  {
   "cell_type": "code",
   "execution_count": 135,
   "metadata": {},
   "outputs": [],
   "source": [
    "#Divide the training data into training and validation data\n",
    "X_train, X_valid, y_train, y_valid = train_test_split(\n",
    "    padded_sentences, \n",
    "    sentiments, \n",
    "    test_size=0.2,\n",
    "    random_state=45,\n",
    "    shuffle=True\n",
    ")"
   ]
  },
  {
   "cell_type": "markdown",
   "metadata": {},
   "source": [
    "### Model Generation"
   ]
  },
  {
   "cell_type": "code",
   "execution_count": 99,
   "metadata": {},
   "outputs": [
    {
     "name": "stdout",
     "output_type": "stream",
     "text": [
      "Model: \"sequential_6\"\n",
      "_________________________________________________________________\n",
      "Layer (type)                 Output Shape              Param #   \n",
      "=================================================================\n",
      "embedding_6 (Embedding)      (None, 28, 100)           1902900   \n",
      "_________________________________________________________________\n",
      "bidirectional_6 (Bidirection (None, 28, 56)            28896     \n",
      "_________________________________________________________________\n",
      "global_max_pooling1d_6 (Glob (None, 56)                0         \n",
      "_________________________________________________________________\n",
      "batch_normalization_6 (Batch (None, 56)                224       \n",
      "_________________________________________________________________\n",
      "dropout_14 (Dropout)         (None, 56)                0         \n",
      "_________________________________________________________________\n",
      "dense_14 (Dense)             (None, 28)                1596      \n",
      "_________________________________________________________________\n",
      "dropout_15 (Dropout)         (None, 28)                0         \n",
      "_________________________________________________________________\n",
      "dense_15 (Dense)             (None, 1)                 29        \n",
      "=================================================================\n",
      "Total params: 1,933,645\n",
      "Trainable params: 1,933,533\n",
      "Non-trainable params: 112\n",
      "_________________________________________________________________\n",
      "None\n"
     ]
    }
   ],
   "source": [
    "#Model generation\n",
    "\n",
    "model = Sequential()\n",
    "model.add(Embedding(input_dim=embedding_matrix.shape[0], \n",
    "                        output_dim=embedding_matrix.shape[1], \n",
    "                        weights = [embedding_matrix], \n",
    "                        input_length=length_long_sentence))\n",
    "model.add(Bidirectional(LSTM(length_long_sentence, return_sequences = True, recurrent_dropout=0.2)))\n",
    "model.add(GlobalMaxPool1D())\n",
    "model.add(BatchNormalization())\n",
    "model.add(Dropout(0.5))\n",
    "model.add(Dense(length_long_sentence, activation = \"relu\"))\n",
    "model.add(Dropout(0.5))\n",
    "#model.add(Dense(length_long_sentence, activation = \"relu\"))\n",
    "#model.add(Dropout(0.5))\n",
    "model.add(Dense(1, activation = 'sigmoid'))\n",
    "\n",
    "model.compile(loss='binary_crossentropy',optimizer='adam',metrics=['accuracy'])\n",
    "\n",
    "print(model.summary())\n",
    " "
   ]
  },
  {
   "cell_type": "markdown",
   "metadata": {},
   "source": [
    "### Model training"
   ]
  },
  {
   "cell_type": "code",
   "execution_count": 100,
   "metadata": {},
   "outputs": [
    {
     "name": "stdout",
     "output_type": "stream",
     "text": [
      "Epoch 1/10\n",
      "97/97 [==============================] - 5s 49ms/step - loss: 0.9171 - accuracy: 0.5959 - val_loss: 0.6065 - val_accuracy: 0.6967\n",
      "Epoch 2/10\n",
      "97/97 [==============================] - 4s 44ms/step - loss: 0.6403 - accuracy: 0.7095 - val_loss: 0.5693 - val_accuracy: 0.7531\n",
      "Epoch 3/10\n",
      "97/97 [==============================] - 4s 44ms/step - loss: 0.5424 - accuracy: 0.7530 - val_loss: 0.5066 - val_accuracy: 0.7820\n",
      "Epoch 4/10\n",
      "97/97 [==============================] - 4s 44ms/step - loss: 0.4847 - accuracy: 0.7837 - val_loss: 0.4676 - val_accuracy: 0.7919\n",
      "Epoch 5/10\n",
      "97/97 [==============================] - 4s 44ms/step - loss: 0.4275 - accuracy: 0.8146 - val_loss: 0.4440 - val_accuracy: 0.8056\n",
      "Epoch 6/10\n",
      "97/97 [==============================] - 4s 46ms/step - loss: 0.3753 - accuracy: 0.8433 - val_loss: 0.4610 - val_accuracy: 0.7991\n",
      "Epoch 7/10\n",
      "97/97 [==============================] - 4s 44ms/step - loss: 0.3226 - accuracy: 0.8742 - val_loss: 0.4905 - val_accuracy: 0.7873\n",
      "Epoch 8/10\n",
      "97/97 [==============================] - 4s 45ms/step - loss: 0.2618 - accuracy: 0.9011 - val_loss: 0.4913 - val_accuracy: 0.8076\n",
      "Epoch 9/10\n",
      "97/97 [==============================] - 4s 44ms/step - loss: 0.2064 - accuracy: 0.9294 - val_loss: 0.6078 - val_accuracy: 0.8004\n",
      "Epoch 10/10\n",
      "97/97 [==============================] - 4s 45ms/step - loss: 0.1592 - accuracy: 0.9468 - val_loss: 0.5743 - val_accuracy: 0.8024\n"
     ]
    }
   ],
   "source": [
    "#Fit the model on data\n",
    "history = model.fit(\n",
    "    X_train, \n",
    "    y_train, \n",
    "    validation_data = (X_valid, y_valid),\n",
    "    epochs = 10,\n",
    "    batch_size = 63\n",
    ")"
   ]
  },
  {
   "cell_type": "markdown",
   "metadata": {},
   "source": [
    "### Model prediction and evaluation "
   ]
  },
  {
   "cell_type": "code",
   "execution_count": 101,
   "metadata": {},
   "outputs": [
    {
     "name": "stdout",
     "output_type": "stream",
     "text": [
      "[[760 116]\n",
      " [185 462]]\n",
      "Accuracy Score : 0.8023637557452397\n",
      "Report : \n",
      "              precision    recall  f1-score   support\n",
      "\n",
      "           0       0.80      0.87      0.83       876\n",
      "           1       0.80      0.71      0.75       647\n",
      "\n",
      "    accuracy                           0.80      1523\n",
      "   macro avg       0.80      0.79      0.79      1523\n",
      "weighted avg       0.80      0.80      0.80      1523\n",
      "\n"
     ]
    }
   ],
   "source": [
    "y_valid_pred = model.predict_classes(X_valid)\n",
    "\n",
    "print(confusion_matrix(y_test,y_valid_pred))\n",
    "print('Accuracy Score :',accuracy_score(y_valid, y_valid_pred))\n",
    "print('Report : ')\n",
    "print(classification_report(y_valid, y_valid_pred))"
   ]
  },
  {
   "cell_type": "code",
   "execution_count": 103,
   "metadata": {},
   "outputs": [
    {
     "data": {
      "text/plain": [
       "<matplotlib.legend.Legend at 0x1b067393d30>"
      ]
     },
     "execution_count": 103,
     "metadata": {},
     "output_type": "execute_result"
    },
    {
     "data": {
      "image/png": "[encoded data removed]",
      "text/plain": [
       "<Figure size 432x288 with 1 Axes>"
      ]
     },
     "metadata": {
      "needs_background": "light"
     },
     "output_type": "display_data"
    }
   ],
   "source": [
    "#accuracy per iteration\n",
    "plt.plot(history.history['accuracy'],color='green',label = 'Train accuracy')\n",
    "plt.plot(history.history['val_accuracy'],color='red',label = 'Validation accuracy')\n",
    "plt.legend()"
   ]
  },
  {
   "cell_type": "code",
   "execution_count": null,
   "metadata": {},
   "outputs": [],
   "source": []
  },
  {
   "cell_type": "code",
   "execution_count": null,
   "metadata": {},
   "outputs": [],
   "source": []
  }
 ],
 "metadata": {
  "kernelspec": {
   "display_name": "Python 3",
   "language": "python",
   "name": "python3"
  },
  "language_info": {
   "codemirror_mode": {
    "name": "ipython",
    "version": 3
   },
   "file_extension": ".py",
   "mimetype": "text/x-python",
   "name": "python",
   "nbconvert_exporter": "python",
   "pygments_lexer": "ipython3",
   "version": "3.8.3"
  },
  "toc": {
   "base_numbering": 1,
   "nav_menu": {},
   "number_sections": true,
   "sideBar": true,
   "skip_h1_title": false,
   "title_cell": "Table of Contents",
   "title_sidebar": "Contents",
   "toc_cell": false,
   "toc_position": {},
   "toc_section_display": true,
   "toc_window_display": false
  }
 },
 "nbformat": 4,
 "nbformat_minor": 4
}
