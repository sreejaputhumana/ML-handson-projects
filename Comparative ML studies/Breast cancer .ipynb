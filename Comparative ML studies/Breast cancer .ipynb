{
 "cells": [
  {
   "cell_type": "markdown",
   "metadata": {},
   "source": [
    "# Breast cancer detection (ML models): a comparative study"
   ]
  },
  {
   "cell_type": "markdown",
   "metadata": {},
   "source": [
    "Scientists and researchers use machine learning models for diagnostcs purpose in the field of medicine. Here I have analysed breast cancer data from Wisconsin (1995). With the given data I have generated ML models that predicts whether the cancer is benign or malignant. I have used algorithms mentioned below to create models and I performs an comparison study based on the models accuracies.                                                                                                     \n",
    "       1.Gradient boosting                                                                            \n",
    "       2.Logistic regression                                                                                    \n",
    "       3.Random forest                                                                                    \n",
    "       4.Support vector machine                                                                               \n",
    "       5.Multilayer perceptron "
   ]
  },
  {
   "cell_type": "code",
   "execution_count": 77,
   "metadata": {},
   "outputs": [],
   "source": [
    "#Import libraries \n",
    "from sklearn.ensemble import RandomForestClassifier\n",
    "import numpy as np\n",
    "import pandas as pd\n",
    "import matplotlib.patches as mpatches\n",
    "import seaborn as sns\n",
    "import tensorflow as tf\n",
    "import matplotlib.pyplot as plt\n",
    "import keras\n",
    "import warnings\n",
    "warnings.filterwarnings('ignore')\n",
    "\n",
    "from sklearn.model_selection import train_test_split,KFold,GridSearchCV\n",
    "from sklearn.svm import SVC\n",
    "from sklearn.datasets import load_boston\n",
    "from sklearn.metrics import mean_absolute_error,confusion_matrix,mean_squared_error,accuracy_score\n",
    "from sklearn.linear_model import LogisticRegression\n",
    "from keras.models import Sequential\n",
    "from xgboost import XGBClassifier\n",
    "from sklearn.model_selection import GridSearchCV\n",
    "from tensorflow.keras.optimizers import Adam,SGD\n",
    "from keras.models import Sequential,Input,Model\n",
    "from keras.layers import Dense\n",
    "from keras.optimizers import Adam"
   ]
  },
  {
   "cell_type": "code",
   "execution_count": 65,
   "metadata": {},
   "outputs": [],
   "source": [
    "#New data for ANN\n",
    "data = pd.read_csv('C:/Users/sreej/Documents/Jupyter Notebook/Breast cancer detection/data .csv')\n"
   ]
  },
  {
   "cell_type": "markdown",
   "metadata": {},
   "source": [
    "# Data preperation"
   ]
  },
  {
   "cell_type": "code",
   "execution_count": 150,
   "metadata": {},
   "outputs": [
    {
     "data": {
      "image/png": "[encoded data removed]",
      "text/plain": [
       "<Figure size 720x504 with 1 Axes>"
      ]
     },
     "metadata": {},
     "output_type": "display_data"
    }
   ],
   "source": [
    "#Visual represenrtation of diagnostic categories\n",
    "labels = ['Benign','Malignant']\n",
    "pie_data = data[\"diagnosis\"].value_counts()\n",
    "fig = plt.figure(figsize =(10, 7))\n",
    "plt.title(\"Diagnostic categories\")\n",
    "plt.pie(pie_data,labels= labels,autopct='%.2f',colors= ('yellow', 'red'));\n"
   ]
  },
  {
   "cell_type": "code",
   "execution_count": 66,
   "metadata": {},
   "outputs": [
    {
     "data": {
      "text/plain": [
       "id                           0\n",
       "diagnosis                    0\n",
       "radius_mean                  0\n",
       "texture_mean                 0\n",
       "perimeter_mean               0\n",
       "area_mean                    0\n",
       "smoothness_mean              0\n",
       "compactness_mean             0\n",
       "concavity_mean               0\n",
       "concave points_mean          0\n",
       "symmetry_mean                0\n",
       "fractal_dimension_mean       0\n",
       "radius_se                    0\n",
       "texture_se                   0\n",
       "perimeter_se                 0\n",
       "area_se                      0\n",
       "smoothness_se                0\n",
       "compactness_se               0\n",
       "concavity_se                 0\n",
       "concave points_se            0\n",
       "symmetry_se                  0\n",
       "fractal_dimension_se         0\n",
       "radius_worst                 0\n",
       "texture_worst                0\n",
       "perimeter_worst              0\n",
       "area_worst                   0\n",
       "smoothness_worst             0\n",
       "compactness_worst            0\n",
       "concavity_worst              0\n",
       "concave points_worst         0\n",
       "symmetry_worst               0\n",
       "fractal_dimension_worst      0\n",
       "Unnamed: 32                569\n",
       "dtype: int64"
      ]
     },
     "execution_count": 66,
     "metadata": {},
     "output_type": "execute_result"
    }
   ],
   "source": [
    "#Checking for null values in the dataset\n",
    "data.isnull().sum(axis = 0)"
   ]
  },
  {
   "cell_type": "code",
   "execution_count": 36,
   "metadata": {},
   "outputs": [],
   "source": [
    "#Remove unwanted colums from dataset\n",
    "data = data.drop(['id','Unnamed: 32'], axis=1)\n",
    "\n",
    "#Divide dataset into X and Y\n",
    "X = data.drop(['diagnosis'],axis=1)\n",
    "\n",
    "Y = data['diagnosis']\n",
    "Y= Y.apply(lambda x: 1 if x == \"M\" else 0)\n"
   ]
  },
  {
   "cell_type": "code",
   "execution_count": 24,
   "metadata": {},
   "outputs": [],
   "source": [
    "#Divide into test train data set\n",
    "x_train,x_test, y_train, y_test = train_test_split(X,Y,test_size = .2,random_state = 0)"
   ]
  },
  {
   "cell_type": "code",
   "execution_count": 37,
   "metadata": {},
   "outputs": [
    {
     "name": "stdout",
     "output_type": "stream",
     "text": [
      "train set:  (455, 30) (455,)\n",
      "test set:  (114, 30) (114,)\n"
     ]
    }
   ],
   "source": [
    "print('train set: ', x_train.shape,y_train.shape)\n",
    "print('test set: ', x_test.shape, y_test.shape)"
   ]
  },
  {
   "cell_type": "markdown",
   "metadata": {},
   "source": [
    "# Model(s) generation"
   ]
  },
  {
   "cell_type": "markdown",
   "metadata": {},
   "source": [
    "## Gradient boosting with XGBoost"
   ]
  },
  {
   "cell_type": "code",
   "execution_count": 204,
   "metadata": {},
   "outputs": [
    {
     "data": {
      "text/plain": [
       "{'eval_metric': 'logloss',\n",
       " 'learning_rate': 1,\n",
       " 'max_depth': 5,\n",
       " 'n_estimators': 100}"
      ]
     },
     "execution_count": 204,
     "metadata": {},
     "output_type": "execute_result"
    }
   ],
   "source": [
    "#Using grid search algorithm find the best parameters for gradient boosting model \n",
    "grid_params={'n_estimators': [100,200,300,400,50],\n",
    "            'learning_rate': [0.010,0.001,0.0001,1],\n",
    "            'max_depth':[5,6,4,7],\n",
    "            'eval_metric':['logloss']}\n",
    "grid_model=GridSearchCV(estimator=XGBClassifier(),param_grid=grid_params,cv=3)\n",
    "grid_model.fit(x_train,y_train)\n",
    "grid_model.best_params_"
   ]
  },
  {
   "cell_type": "code",
   "execution_count": 205,
   "metadata": {},
   "outputs": [
    {
     "name": "stdout",
     "output_type": "stream",
     "text": [
      "Error of the optimized XGBClassifier model:  0.16222142113076254\n"
     ]
    }
   ],
   "source": [
    "xgb =XGBClassifier(learning_rate= 1, max_depth= 5, n_estimators=100,eval_metric ='logloss')\n",
    "xgb.fit(x_train,y_train)\n",
    "y_pred_xgb =xgb.predict(x_test)\n",
    "error_xgb=np.sqrt(mean_squared_error(y_pred_xgb,y_test))\n",
    "print('Error of the optimized XGBClassifier model: ', str(error_xgb))"
   ]
  },
  {
   "cell_type": "code",
   "execution_count": 206,
   "metadata": {},
   "outputs": [
    {
     "data": {
      "text/plain": [
       "<matplotlib.axes._subplots.AxesSubplot at 0x20178ac1670>"
      ]
     },
     "execution_count": 206,
     "metadata": {},
     "output_type": "execute_result"
    },
    {
     "data": {
      "image/png": "[encoded data removed]",
      "text/plain": [
       "<Figure size 432x288 with 2 Axes>"
      ]
     },
     "metadata": {
      "needs_background": "light"
     },
     "output_type": "display_data"
    }
   ],
   "source": [
    "cm_xgb = confusion_matrix(y_test,y_pred_xgb)\n",
    "sns.heatmap(cm_xgb, linewidth=0.5,annot=True)"
   ]
  },
  {
   "cell_type": "code",
   "execution_count": 207,
   "metadata": {},
   "outputs": [
    {
     "name": "stdout",
     "output_type": "stream",
     "text": [
      "Accuracy :  0.9736842105263158\n",
      "Sensitivity :  1.0\n",
      "Specificity :  0.9361702127659575\n"
     ]
    }
   ],
   "source": [
    "total_xgb=sum(sum(cm_xgb))\n",
    "#Accuracy calculation from confusion matrix\n",
    "accuracy_xgb=(cm_xgb[0,0]+cm_xgb[1,1])/total1\n",
    "print ('Accuracy : ', accuracy_xgb)\n",
    "\n",
    "sensitivity_xgb = cm_xgb[0,0]/(cm_xgb[0,0]+cm_xgb[0,1])\n",
    "print('Sensitivity : ', sensitivity_xgb )\n",
    "\n",
    "specificity_xgb = cm_xgb[1,1]/(cm_xgb[1,0]+cm_xgb[1,1])\n",
    "print('Specificity : ', specificity_xgb)"
   ]
  },
  {
   "cell_type": "markdown",
   "metadata": {},
   "source": [
    "## Logistic regression"
   ]
  },
  {
   "cell_type": "code",
   "execution_count": 41,
   "metadata": {},
   "outputs": [],
   "source": [
    "#Build the model\n",
    "\n",
    "lr = LogisticRegression(solver='lbfgs', max_iter=1000)"
   ]
  },
  {
   "cell_type": "code",
   "execution_count": 42,
   "metadata": {},
   "outputs": [
    {
     "data": {
      "text/plain": [
       "LogisticRegression(max_iter=1000)"
      ]
     },
     "execution_count": 42,
     "metadata": {},
     "output_type": "execute_result"
    }
   ],
   "source": [
    "#Fit the train values to model \n",
    "lr.fit(x_train,y_train)"
   ]
  },
  {
   "cell_type": "code",
   "execution_count": 43,
   "metadata": {},
   "outputs": [],
   "source": [
    "#predict values for new model\n",
    "y_predict_lr = lr.predict(x_test)"
   ]
  },
  {
   "cell_type": "code",
   "execution_count": 78,
   "metadata": {},
   "outputs": [
    {
     "data": {
      "text/plain": [
       "<matplotlib.axes._subplots.AxesSubplot at 0x20174c4bca0>"
      ]
     },
     "execution_count": 78,
     "metadata": {},
     "output_type": "execute_result"
    },
    {
     "data": {
      "image/png": "[encoded data removed]",
      "text/plain": [
       "<Figure size 432x288 with 2 Axes>"
      ]
     },
     "metadata": {
      "needs_background": "light"
     },
     "output_type": "display_data"
    }
   ],
   "source": [
    "cm_lr = confusion_matrix(y_test,y_predict_lr)\n",
    "sns.heatmap(cm_lr, linewidth=0.5,annot=True)"
   ]
  },
  {
   "cell_type": "code",
   "execution_count": 45,
   "metadata": {},
   "outputs": [
    {
     "name": "stdout",
     "output_type": "stream",
     "text": [
      "Error of the optimized Logistic Regression model:  0.20942695414584775\n"
     ]
    }
   ],
   "source": [
    "#Validation test score\n",
    "error_lr = np.sqrt(mean_squared_error(y_predict_lr,y_test))\n",
    "print('Error of the optimized Logistic Regression model: ', str(error_lr))"
   ]
  },
  {
   "cell_type": "code",
   "execution_count": 88,
   "metadata": {},
   "outputs": [
    {
     "name": "stdout",
     "output_type": "stream",
     "text": [
      "Accuracy :  0.956140350877193\n",
      "Sensitivity :  0.9402985074626866\n",
      "Specificity :  0.9787234042553191\n"
     ]
    }
   ],
   "source": [
    "total_lr=sum(sum(cm_lr))\n",
    "#Accuracy calculation from confusion matrix\n",
    "accuracy_lr=(cm_lr[0,0]+cm_lr[1,1])/total_lr\n",
    "print ('Accuracy : ', accuracy_lr)\n",
    "\n",
    "sensitivity_lr = cm_lr[0,0]/(cm_lr[0,0]+cm_lr[0,1])\n",
    "print('Sensitivity : ', sensitivity_lr )\n",
    "\n",
    "specificity_lr = cm_lr[1,1]/(cm_lr[1,0]+cm_lr[1,1])\n",
    "print('Specificity : ', specificity_lr)"
   ]
  },
  {
   "cell_type": "markdown",
   "metadata": {},
   "source": [
    "## Random forest"
   ]
  },
  {
   "cell_type": "code",
   "execution_count": 46,
   "metadata": {},
   "outputs": [
    {
     "name": "stdout",
     "output_type": "stream",
     "text": [
      "Error of the optimized Logistic Regression model:  0.20942695414584775\n"
     ]
    }
   ],
   "source": [
    "random_forest = RandomForestClassifier(n_estimators=100)\n",
    "\n",
    "random_forest.fit(x_train, y_train)\n",
    "\n",
    "y_pred_rf = random_forest.predict(x_test)\n",
    "\n",
    "#Validation test score\n",
    "error_rf = np.sqrt(mean_squared_error(y_pred_rf,y_test))\n",
    "print('Error of the optimized Logistic Regression model: ', str(error_rf))"
   ]
  },
  {
   "cell_type": "code",
   "execution_count": 79,
   "metadata": {},
   "outputs": [
    {
     "data": {
      "text/plain": [
       "<matplotlib.axes._subplots.AxesSubplot at 0x20174ccbbb0>"
      ]
     },
     "execution_count": 79,
     "metadata": {},
     "output_type": "execute_result"
    },
    {
     "data": {
      "image/png": "[encoded data removed]",
      "text/plain": [
       "<Figure size 432x288 with 2 Axes>"
      ]
     },
     "metadata": {
      "needs_background": "light"
     },
     "output_type": "display_data"
    }
   ],
   "source": [
    "cm_rf = confusion_matrix(y_test,y_pred_rf)\n",
    "sns.heatmap(cm_rf, linewidth=0.5,annot=True)"
   ]
  },
  {
   "cell_type": "code",
   "execution_count": 89,
   "metadata": {},
   "outputs": [
    {
     "name": "stdout",
     "output_type": "stream",
     "text": [
      "Accuracy :  0.956140350877193\n",
      "Sensitivity :  0.9552238805970149\n",
      "Specificity :  0.9574468085106383\n"
     ]
    }
   ],
   "source": [
    "total_rf=sum(sum(cm_rf))\n",
    "#Accuracy calculation from confusion matrix\n",
    "accuracy_rf=(cm_rf[0,0]+cm_rf[1,1])/total_rf\n",
    "print ('Accuracy : ', accuracy_rf)\n",
    "\n",
    "sensitivity_rf = cm_rf[0,0]/(cm_rf[0,0]+cm_rf[0,1])\n",
    "print('Sensitivity : ', sensitivity_rf )\n",
    "\n",
    "specificity_rf = cm_rf[1,1]/(cm_rf[1,0]+cm_rf[1,1])\n",
    "print('Specificity : ', specificity_rf)"
   ]
  },
  {
   "cell_type": "markdown",
   "metadata": {},
   "source": [
    "## Support vector machines "
   ]
  },
  {
   "cell_type": "code",
   "execution_count": 48,
   "metadata": {},
   "outputs": [
    {
     "name": "stdout",
     "output_type": "stream",
     "text": [
      "Error of the optimized Logistic Regression model:  0.20942695414584775\n"
     ]
    }
   ],
   "source": [
    "svc = SVC(kernel = 'linear')\n",
    "svc.fit(x_train, y_train)\n",
    "\n",
    "y_pred_svc = svc.predict(x_test)\n",
    "\n",
    "#Validation test score\n",
    "error_svm = np.sqrt(mean_squared_error(y_pred_svc,y_test))\n",
    "print('Error of the optimized Logistic Regression model: ', str(error_svm))"
   ]
  },
  {
   "cell_type": "code",
   "execution_count": 80,
   "metadata": {},
   "outputs": [
    {
     "data": {
      "text/plain": [
       "<matplotlib.axes._subplots.AxesSubplot at 0x20174d60040>"
      ]
     },
     "execution_count": 80,
     "metadata": {},
     "output_type": "execute_result"
    },
    {
     "data": {
      "image/png": "[encoded data removed]",
      "text/plain": [
       "<Figure size 432x288 with 2 Axes>"
      ]
     },
     "metadata": {
      "needs_background": "light"
     },
     "output_type": "display_data"
    }
   ],
   "source": [
    "cm_svc = confusion_matrix(y_test,y_pred_svc)\n",
    "sns.heatmap(cm_svc, linewidth=0.5,annot=True)"
   ]
  },
  {
   "cell_type": "code",
   "execution_count": 90,
   "metadata": {},
   "outputs": [
    {
     "name": "stdout",
     "output_type": "stream",
     "text": [
      "Accuracy :  0.956140350877193\n",
      "Sensitivity :  0.9402985074626866\n",
      "Specificity :  0.9787234042553191\n"
     ]
    }
   ],
   "source": [
    "total_svc = sum(sum(cm_svc))\n",
    "#Accuracy calculation from confusion matrix\n",
    "accuracy_svc=(cm_svc[0,0]+cm_svc[1,1])/total_svc\n",
    "print ('Accuracy : ', accuracy_svc)\n",
    "\n",
    "sensitivity_svc = cm_svc[0,0]/(cm_svc[0,0]+cm_svc[0,1])\n",
    "print('Sensitivity : ', sensitivity_svc )\n",
    "\n",
    "specificity_svc = cm_svc[1,1]/(cm_svc[1,0]+cm_svc[1,1])\n",
    "print('Specificity : ', specificity_svc)"
   ]
  },
  {
   "cell_type": "markdown",
   "metadata": {},
   "source": [
    "## 5-Fold cross validation"
   ]
  },
  {
   "cell_type": "code",
   "execution_count": 50,
   "metadata": {},
   "outputs": [],
   "source": [
    "#Implementing cross validation\n",
    " \n",
    "k = 5\n",
    "kf = KFold(n_splits=k, random_state=None)\n",
    "model = LogisticRegression(solver= 'liblinear')"
   ]
  },
  {
   "cell_type": "code",
   "execution_count": 91,
   "metadata": {},
   "outputs": [
    {
     "name": "stdout",
     "output_type": "stream",
     "text": [
      "accuracy of each fold - [0.8936170212765957, 0.9680851063829787, 0.9574468085106383, 0.967741935483871, 0.946236559139785]\n",
      "average accuracy score - 0.9466254861587737\n"
     ]
    },
    {
     "data": {
      "text/plain": [
       "<matplotlib.axes._subplots.AxesSubplot at 0x20175083760>"
      ]
     },
     "execution_count": 91,
     "metadata": {},
     "output_type": "execute_result"
    },
    {
     "data": {
      "image/png": "[encoded data removed]",
      "text/plain": [
       "<Figure size 432x288 with 2 Axes>"
      ]
     },
     "metadata": {
      "needs_background": "light"
     },
     "output_type": "display_data"
    }
   ],
   "source": [
    "acc_score = []\n",
    " \n",
    "for train_index , test_index in kf.split(train_data):\n",
    "    x_train_k , x_test_k = X.iloc[train_index,:],X.iloc[test_index,:]\n",
    "    y_train_k , y_test_k = Y[train_index] , Y[test_index]\n",
    "     \n",
    "    model.fit(x_train_k,y_train_k)\n",
    "    pred_values = model.predict(x_test_k)\n",
    "     \n",
    "    acc = accuracy_score(pred_values , y_test_k)\n",
    "    acc_score.append(acc)\n",
    "    cm_kfold = confusion_matrix(y_test_k, pred_values)\n",
    "average_acc_score = sum(acc_score )/ k  \n",
    "\n",
    "print('accuracy of each fold - {}'.format(acc_score))\n",
    "print('average accuracy score - {}'.format(average_acc_score))\n",
    "cm_kfold = confusion_matrix(y_test,y_pred_svc)\n",
    "sns.heatmap(cm_kfold , linewidth=0.5,annot=True)"
   ]
  },
  {
   "cell_type": "code",
   "execution_count": 92,
   "metadata": {},
   "outputs": [
    {
     "name": "stdout",
     "output_type": "stream",
     "text": [
      "Accuracy :  0.956140350877193\n",
      "Sensitivity :  0.9402985074626866\n",
      "Specificity :  0.9787234042553191\n"
     ]
    }
   ],
   "source": [
    "total_kfold = sum(sum(cm_svc))\n",
    "#Accuracy calculation from confusion matrix\n",
    "accuracy_kfold=(cm_kfold[0,0]+cm_kfold[1,1])/total_kfold\n",
    "print ('Accuracy : ', accuracy_kfold)\n",
    "\n",
    "sensitivity_kfold = cm_kfold[0,0]/(cm_kfold[0,0]+cm_kfold[0,1])\n",
    "print('Sensitivity : ', sensitivity_kfold )\n",
    "\n",
    "specificity_kfold = cm_kfold[1,1]/(cm_kfold[1,0]+cm_kfold[1,1])\n",
    "print('Specificity : ', specificity_kfold)"
   ]
  },
  {
   "cell_type": "markdown",
   "metadata": {},
   "source": [
    "## Multilayer perceptron"
   ]
  },
  {
   "cell_type": "code",
   "execution_count": 25,
   "metadata": {},
   "outputs": [
    {
     "name": "stdout",
     "output_type": "stream",
     "text": [
      "Model: \"sequential\"\n",
      "_________________________________________________________________\n",
      "Layer (type)                 Output Shape              Param #   \n",
      "=================================================================\n",
      "dense (Dense)                (None, 150)               4650      \n",
      "_________________________________________________________________\n",
      "dense_1 (Dense)              (None, 400)               60400     \n",
      "_________________________________________________________________\n",
      "dense_2 (Dense)              (None, 110)               44110     \n",
      "_________________________________________________________________\n",
      "dense_3 (Dense)              (None, 60)                6660      \n",
      "_________________________________________________________________\n",
      "dense_4 (Dense)              (None, 60)                3660      \n",
      "_________________________________________________________________\n",
      "dense_5 (Dense)              (None, 1)                 61        \n",
      "=================================================================\n",
      "Total params: 119,541\n",
      "Trainable params: 119,541\n",
      "Non-trainable params: 0\n",
      "_________________________________________________________________\n"
     ]
    }
   ],
   "source": [
    "model = Sequential()\n",
    "model.add(Input(shape= (30,)))\n",
    "model.add(Dense(150, activation='relu'))\n",
    "model.add(Dense(400, activation='relu'))\n",
    "model.add(Dense(110, activation='relu'))\n",
    "model.add(Dense(60, activation='relu'))\n",
    "model.add(Dense(60, activation='relu'))\n",
    "model.add(Dense(1,  activation ='sigmoid'))\n",
    "model.summary()"
   ]
  },
  {
   "cell_type": "code",
   "execution_count": 26,
   "metadata": {},
   "outputs": [],
   "source": [
    "#model compilation \n",
    "model.compile(optimizer=SGD(lr=0.01, clipvalue=0.5),loss='binary_crossentropy',metrics=['accuracy'])"
   ]
  },
  {
   "cell_type": "code",
   "execution_count": 27,
   "metadata": {},
   "outputs": [
    {
     "name": "stdout",
     "output_type": "stream",
     "text": [
      "Epoch 1/65\n",
      "15/15 [==============================] - 0s 20ms/step - loss: 11.7010 - accuracy: 0.4879 - val_loss: 2.8991 - val_accuracy: 0.5877\n",
      "Epoch 2/65\n",
      "15/15 [==============================] - 0s 4ms/step - loss: 1.8569 - accuracy: 0.5780 - val_loss: 1.9236 - val_accuracy: 0.5965\n",
      "Epoch 3/65\n",
      "15/15 [==============================] - 0s 4ms/step - loss: 1.3345 - accuracy: 0.5407 - val_loss: 1.7913 - val_accuracy: 0.5877\n",
      "Epoch 4/65\n",
      "15/15 [==============================] - 0s 6ms/step - loss: 1.1156 - accuracy: 0.6088 - val_loss: 0.9632 - val_accuracy: 0.4561\n",
      "Epoch 5/65\n",
      "15/15 [==============================] - 0s 5ms/step - loss: 0.8089 - accuracy: 0.6198 - val_loss: 0.5580 - val_accuracy: 0.7982\n",
      "Epoch 6/65\n",
      "15/15 [==============================] - 0s 6ms/step - loss: 0.4647 - accuracy: 0.7824 - val_loss: 0.5424 - val_accuracy: 0.6228\n",
      "Epoch 7/65\n",
      "15/15 [==============================] - 0s 6ms/step - loss: 0.5251 - accuracy: 0.7670 - val_loss: 0.4005 - val_accuracy: 0.8596\n",
      "Epoch 8/65\n",
      "15/15 [==============================] - 0s 4ms/step - loss: 0.3427 - accuracy: 0.8505 - val_loss: 0.3703 - val_accuracy: 0.8421\n",
      "Epoch 9/65\n",
      "15/15 [==============================] - 0s 4ms/step - loss: 0.4299 - accuracy: 0.8527 - val_loss: 0.8218 - val_accuracy: 0.8246\n",
      "Epoch 10/65\n",
      "15/15 [==============================] - 0s 3ms/step - loss: 0.3396 - accuracy: 0.8593 - val_loss: 0.3396 - val_accuracy: 0.8860\n",
      "Epoch 11/65\n",
      "15/15 [==============================] - 0s 4ms/step - loss: 0.3731 - accuracy: 0.8396 - val_loss: 0.5421 - val_accuracy: 0.8158\n",
      "Epoch 12/65\n",
      "15/15 [==============================] - 0s 3ms/step - loss: 0.3074 - accuracy: 0.8769 - val_loss: 0.9971 - val_accuracy: 0.7982\n",
      "Epoch 13/65\n",
      "15/15 [==============================] - 0s 3ms/step - loss: 0.3998 - accuracy: 0.8220 - val_loss: 0.2990 - val_accuracy: 0.8860\n",
      "Epoch 14/65\n",
      "15/15 [==============================] - 0s 3ms/step - loss: 0.3186 - accuracy: 0.8615 - val_loss: 0.4817 - val_accuracy: 0.7105\n",
      "Epoch 15/65\n",
      "15/15 [==============================] - 0s 4ms/step - loss: 0.3255 - accuracy: 0.8835 - val_loss: 0.2748 - val_accuracy: 0.9211\n",
      "Epoch 16/65\n",
      "15/15 [==============================] - 0s 5ms/step - loss: 0.3193 - accuracy: 0.8769 - val_loss: 0.4456 - val_accuracy: 0.8772\n",
      "Epoch 17/65\n",
      "15/15 [==============================] - 0s 6ms/step - loss: 0.3246 - accuracy: 0.8703 - val_loss: 1.3584 - val_accuracy: 0.7105\n",
      "Epoch 18/65\n",
      "15/15 [==============================] - 0s 5ms/step - loss: 0.4598 - accuracy: 0.8505 - val_loss: 0.5463 - val_accuracy: 0.8246\n",
      "Epoch 19/65\n",
      "15/15 [==============================] - 0s 5ms/step - loss: 0.3571 - accuracy: 0.8462 - val_loss: 0.5075 - val_accuracy: 0.8246\n",
      "Epoch 20/65\n",
      "15/15 [==============================] - 0s 4ms/step - loss: 0.3346 - accuracy: 0.8396 - val_loss: 0.3627 - val_accuracy: 0.9035\n",
      "Epoch 21/65\n",
      "15/15 [==============================] - 0s 4ms/step - loss: 0.3282 - accuracy: 0.8835 - val_loss: 0.3304 - val_accuracy: 0.8947\n",
      "Epoch 22/65\n",
      "15/15 [==============================] - 0s 4ms/step - loss: 0.3094 - accuracy: 0.8527 - val_loss: 0.3155 - val_accuracy: 0.9123\n",
      "Epoch 23/65\n",
      "15/15 [==============================] - 0s 3ms/step - loss: 0.3914 - accuracy: 0.8110 - val_loss: 0.3442 - val_accuracy: 0.8596\n",
      "Epoch 24/65\n",
      "15/15 [==============================] - 0s 4ms/step - loss: 0.3291 - accuracy: 0.8879 - val_loss: 0.3351 - val_accuracy: 0.8684\n",
      "Epoch 25/65\n",
      "15/15 [==============================] - 0s 4ms/step - loss: 0.3089 - accuracy: 0.8791 - val_loss: 0.4492 - val_accuracy: 0.8421\n",
      "Epoch 26/65\n",
      "15/15 [==============================] - 0s 3ms/step - loss: 0.2796 - accuracy: 0.8857 - val_loss: 0.8044 - val_accuracy: 0.8158\n",
      "Epoch 27/65\n",
      "15/15 [==============================] - 0s 4ms/step - loss: 0.2823 - accuracy: 0.8857 - val_loss: 0.3433 - val_accuracy: 0.8772\n",
      "Epoch 28/65\n",
      "15/15 [==============================] - 0s 4ms/step - loss: 0.3290 - accuracy: 0.8681 - val_loss: 0.5816 - val_accuracy: 0.8509\n",
      "Epoch 29/65\n",
      "15/15 [==============================] - 0s 4ms/step - loss: 0.3439 - accuracy: 0.8681 - val_loss: 0.3008 - val_accuracy: 0.9035\n",
      "Epoch 30/65\n",
      "15/15 [==============================] - 0s 4ms/step - loss: 0.2976 - accuracy: 0.8857 - val_loss: 0.2890 - val_accuracy: 0.8860\n",
      "Epoch 31/65\n",
      "15/15 [==============================] - 0s 6ms/step - loss: 0.3025 - accuracy: 0.8879 - val_loss: 0.4955 - val_accuracy: 0.7456\n",
      "Epoch 32/65\n",
      "15/15 [==============================] - 0s 5ms/step - loss: 0.3224 - accuracy: 0.8791 - val_loss: 0.4448 - val_accuracy: 0.8684\n",
      "Epoch 33/65\n",
      "15/15 [==============================] - 0s 5ms/step - loss: 0.2887 - accuracy: 0.8857 - val_loss: 0.4381 - val_accuracy: 0.8596\n",
      "Epoch 34/65\n",
      "15/15 [==============================] - 0s 5ms/step - loss: 0.2569 - accuracy: 0.8857 - val_loss: 0.3533 - val_accuracy: 0.8246\n",
      "Epoch 35/65\n",
      "15/15 [==============================] - 0s 4ms/step - loss: 0.3013 - accuracy: 0.8857 - val_loss: 0.2992 - val_accuracy: 0.8509\n",
      "Epoch 36/65\n",
      "15/15 [==============================] - 0s 4ms/step - loss: 0.3006 - accuracy: 0.8857 - val_loss: 0.2882 - val_accuracy: 0.8947\n",
      "Epoch 37/65\n",
      "15/15 [==============================] - 0s 4ms/step - loss: 0.2786 - accuracy: 0.9055 - val_loss: 0.4508 - val_accuracy: 0.8421\n",
      "Epoch 38/65\n",
      "15/15 [==============================] - 0s 4ms/step - loss: 0.3355 - accuracy: 0.8813 - val_loss: 0.2995 - val_accuracy: 0.9035\n",
      "Epoch 39/65\n",
      "15/15 [==============================] - 0s 4ms/step - loss: 0.3011 - accuracy: 0.8659 - val_loss: 0.3206 - val_accuracy: 0.8860\n",
      "Epoch 40/65\n",
      "15/15 [==============================] - 0s 3ms/step - loss: 0.2969 - accuracy: 0.8813 - val_loss: 0.5244 - val_accuracy: 0.8421\n",
      "Epoch 41/65\n",
      "15/15 [==============================] - 0s 4ms/step - loss: 0.3400 - accuracy: 0.8681 - val_loss: 0.2873 - val_accuracy: 0.8860\n",
      "Epoch 42/65\n",
      "15/15 [==============================] - 0s 4ms/step - loss: 0.2833 - accuracy: 0.8945 - val_loss: 0.2786 - val_accuracy: 0.9123\n",
      "Epoch 43/65\n",
      "15/15 [==============================] - 0s 4ms/step - loss: 0.3210 - accuracy: 0.8923 - val_loss: 0.9956 - val_accuracy: 0.8070\n",
      "Epoch 44/65\n",
      "15/15 [==============================] - 0s 4ms/step - loss: 0.2982 - accuracy: 0.8923 - val_loss: 0.7559 - val_accuracy: 0.6228\n",
      "Epoch 45/65\n",
      "15/15 [==============================] - 0s 4ms/step - loss: 0.3462 - accuracy: 0.8747 - val_loss: 0.3329 - val_accuracy: 0.8860\n",
      "Epoch 46/65\n",
      "15/15 [==============================] - 0s 4ms/step - loss: 0.3052 - accuracy: 0.8901 - val_loss: 0.5976 - val_accuracy: 0.8246\n",
      "Epoch 47/65\n",
      "15/15 [==============================] - 0s 4ms/step - loss: 0.2743 - accuracy: 0.9055 - val_loss: 0.5747 - val_accuracy: 0.8246\n",
      "Epoch 48/65\n",
      "15/15 [==============================] - 0s 4ms/step - loss: 0.2979 - accuracy: 0.8923 - val_loss: 0.3428 - val_accuracy: 0.8246\n",
      "Epoch 49/65\n",
      "15/15 [==============================] - 0s 4ms/step - loss: 0.3007 - accuracy: 0.8791 - val_loss: 0.2631 - val_accuracy: 0.9035\n",
      "Epoch 50/65\n",
      "15/15 [==============================] - 0s 4ms/step - loss: 0.2986 - accuracy: 0.8769 - val_loss: 0.3195 - val_accuracy: 0.8246\n",
      "Epoch 51/65\n",
      "15/15 [==============================] - 0s 4ms/step - loss: 0.2817 - accuracy: 0.8945 - val_loss: 0.6444 - val_accuracy: 0.8421\n",
      "Epoch 52/65\n",
      "15/15 [==============================] - 0s 4ms/step - loss: 0.3334 - accuracy: 0.8945 - val_loss: 0.2606 - val_accuracy: 0.8860\n",
      "Epoch 53/65\n",
      "15/15 [==============================] - 0s 4ms/step - loss: 0.3043 - accuracy: 0.8989 - val_loss: 0.2897 - val_accuracy: 0.9386\n",
      "Epoch 54/65\n",
      "15/15 [==============================] - 0s 5ms/step - loss: 0.2452 - accuracy: 0.9055 - val_loss: 0.6349 - val_accuracy: 0.8333\n",
      "Epoch 55/65\n",
      "15/15 [==============================] - 0s 6ms/step - loss: 0.3190 - accuracy: 0.8703 - val_loss: 0.3231 - val_accuracy: 0.8684\n",
      "Epoch 56/65\n",
      "15/15 [==============================] - 0s 6ms/step - loss: 0.2734 - accuracy: 0.9011 - val_loss: 0.2948 - val_accuracy: 0.8860\n",
      "Epoch 57/65\n",
      "15/15 [==============================] - 0s 4ms/step - loss: 0.2504 - accuracy: 0.9055 - val_loss: 0.2694 - val_accuracy: 0.9035\n",
      "Epoch 58/65\n",
      "15/15 [==============================] - 0s 3ms/step - loss: 0.2723 - accuracy: 0.9033 - val_loss: 0.4255 - val_accuracy: 0.8421\n",
      "Epoch 59/65\n",
      "15/15 [==============================] - 0s 3ms/step - loss: 0.2293 - accuracy: 0.9165 - val_loss: 0.3492 - val_accuracy: 0.8947\n",
      "Epoch 60/65\n",
      "15/15 [==============================] - 0s 4ms/step - loss: 0.2595 - accuracy: 0.9011 - val_loss: 0.5772 - val_accuracy: 0.8333\n",
      "Epoch 61/65\n",
      "15/15 [==============================] - 0s 3ms/step - loss: 0.2650 - accuracy: 0.9121 - val_loss: 0.2351 - val_accuracy: 0.9211\n",
      "Epoch 62/65\n",
      "15/15 [==============================] - 0s 3ms/step - loss: 0.2419 - accuracy: 0.9165 - val_loss: 0.3129 - val_accuracy: 0.8684\n",
      "Epoch 63/65\n",
      "15/15 [==============================] - 0s 4ms/step - loss: 0.2341 - accuracy: 0.9165 - val_loss: 0.5984 - val_accuracy: 0.8070\n",
      "Epoch 64/65\n",
      "15/15 [==============================] - 0s 3ms/step - loss: 0.2831 - accuracy: 0.9011 - val_loss: 0.6613 - val_accuracy: 0.7807\n",
      "Epoch 65/65\n",
      "15/15 [==============================] - 0s 3ms/step - loss: 0.2867 - accuracy: 0.8857 - val_loss: 0.2476 - val_accuracy: 0.9035\n"
     ]
    }
   ],
   "source": [
    "#fit the model\n",
    "r = model.fit(X_train,Y_train,epochs= 65,verbose = 1,validation_data = (X_test,Y_test))"
   ]
  },
  {
   "cell_type": "code",
   "execution_count": 28,
   "metadata": {},
   "outputs": [
    {
     "data": {
      "text/plain": [
       "<matplotlib.legend.Legend at 0x20172135f10>"
      ]
     },
     "execution_count": 28,
     "metadata": {},
     "output_type": "execute_result"
    },
    {
     "data": {
      "image/png": "[encoded data removed]",
      "text/plain": [
       "<Figure size 432x288 with 1 Axes>"
      ]
     },
     "metadata": {
      "needs_background": "light"
     },
     "output_type": "display_data"
    }
   ],
   "source": [
    "#plot the loss per iteration\n",
    "plt.plot(r.history['accuracy'], label =\"Accuracy\")\n",
    "plt.plot(r.history['val_accuracy'], label = \"val accuracy\")\n",
    "plt.legend()"
   ]
  },
  {
   "cell_type": "code",
   "execution_count": 31,
   "metadata": {},
   "outputs": [
    {
     "name": "stdout",
     "output_type": "stream",
     "text": [
      "4/4 [==============================] - 0s 1ms/step - loss: 0.2476 - accuracy: 0.9035\n"
     ]
    },
    {
     "data": {
      "text/plain": [
       "[0.2476106584072113, 0.9035087823867798]"
      ]
     },
     "execution_count": 31,
     "metadata": {},
     "output_type": "execute_result"
    }
   ],
   "source": [
    "model.evaluate(x_test,y_test)"
   ]
  },
  {
   "cell_type": "code",
   "execution_count": 86,
   "metadata": {},
   "outputs": [
    {
     "name": "stdout",
     "output_type": "stream",
     "text": [
      "The accuracy on test data is 0.9\n"
     ]
    }
   ],
   "source": [
    "y_pred_mlp = model.predict(x_test)\n",
    "y_pred_mlp = np.around(preds)\n",
    "acc_test = accuracy_score(y_test, y_pred_mlp)\n",
    "\n",
    "print ('The accuracy on test data is %s' % (round(acc_test,2)))"
   ]
  },
  {
   "cell_type": "code",
   "execution_count": 95,
   "metadata": {},
   "outputs": [
    {
     "data": {
      "text/plain": [
       "<matplotlib.axes._subplots.AxesSubplot at 0x20174e6d9a0>"
      ]
     },
     "execution_count": 95,
     "metadata": {},
     "output_type": "execute_result"
    },
    {
     "data": {
      "image/png": "[encoded data removed]",
      "text/plain": [
       "<Figure size 432x288 with 2 Axes>"
      ]
     },
     "metadata": {
      "needs_background": "light"
     },
     "output_type": "display_data"
    }
   ],
   "source": [
    "cm_mlp = confusion_matrix(y_test, y_pred_mlp)\n",
    "sns.heatmap(cm_mlp , linewidth=0.5,annot=True)"
   ]
  },
  {
   "cell_type": "code",
   "execution_count": 96,
   "metadata": {},
   "outputs": [
    {
     "name": "stdout",
     "output_type": "stream",
     "text": [
      "Accuracy :  0.9035087719298246\n",
      "Sensitivity :  1.0\n",
      "Specificity :  0.7659574468085106\n"
     ]
    }
   ],
   "source": [
    "total_mlp = sum(sum(cm_mlp))\n",
    "#Accuracy calculation from confusion matrix\n",
    "accuracy_mlp =(cm_mlp[0,0]+cm_mlp[1,1])/total_mlp\n",
    "print ('Accuracy : ', accuracy_mlp)\n",
    "\n",
    "sensitivity_mlp = cm_mlp[0,0]/(cm_mlp[0,0]+cm_mlp[0,1])\n",
    "print('Sensitivity : ', sensitivity_mlp )\n",
    "\n",
    "specificity_mlp = cm_mlp[1,1]/(cm_mlp[1,0]+cm_mlp[1,1])\n",
    "print('Specificity : ', specificity_mlp)"
   ]
  },
  {
   "cell_type": "markdown",
   "metadata": {},
   "source": [
    "#  Model evaluation "
   ]
  },
  {
   "cell_type": "code",
   "execution_count": 129,
   "metadata": {},
   "outputs": [
    {
     "name": "stdout",
     "output_type": "stream",
     "text": [
      "\n",
      "\n",
      "         XGBoost  Logistic regression   Random Forest   Support Vector      MLP   \n",
      "         --------- ---------------------- ----------------- --------------- ----------\n",
      "Accuracy     0.9737          0.9561          0.9561          0.9561          0.9035\n",
      "Sensitivity  1.0             0.9403          0.9552          0.9403          1.0\n",
      "Specificity  0.9362          0.9787          0.9574          0.9787          0.766\n"
     ]
    }
   ],
   "source": [
    "# print the results \n",
    "print()\n",
    "print()\n",
    "print('        ','XGBoost ',   'Logistic regression  ', 'Random Forest  ', 'Support Vector ', '    MLP   ')\n",
    "print('        ','---------', '----------------------','-----------------','---------------','----------')\n",
    "\n",
    "print('Accuracy    ',\n",
    "      round(accuracy_xgb, 4), '        ',\n",
    "      round(accuracy_lr, 4), '        ',\n",
    "      round(accuracy_rf, 4), '        ',\n",
    "      round(accuracy_svc, 4), '        ',\n",
    "      round(accuracy_mlp, 4)\n",
    "     )\n",
    "print('Sensitivity ',\n",
    "      round(sensitivity_xgb, 4), '           ',\n",
    "      round(sensitivity_lr, 4), '        ',\n",
    "      round(sensitivity_rf, 4), '        ',\n",
    "      round(sensitivity_svc, 4), '        ',\n",
    "      round(sensitivity_mlp, 4)\n",
    "     )\n",
    "print('Specificity ',\n",
    "      round(specificity_xgb, 4), '        ',\n",
    "      round(specificity_lr, 4), '        ',\n",
    "      round(specificity_rf, 4), '        ',\n",
    "      round(specificity_svc, 4), '        ',\n",
    "      round(specificity_mlp, 4)\n",
    "     )"
   ]
  },
  {
   "cell_type": "code",
   "execution_count": 201,
   "metadata": {
    "scrolled": true
   },
   "outputs": [
    {
     "data": {
      "image/png": "[encoded data removed]",
      "text/plain": [
       "<Figure size 1080x288 with 1 Axes>"
      ]
     },
     "metadata": {
      "needs_background": "light"
     },
     "output_type": "display_data"
    }
   ],
   "source": [
    "#Comparitive visualization of ML models \n",
    "x = ['XGBoost','Logistic regression','Random forest','Support vector machine','Multilayer perceptron']\n",
    "acc = [accuracy_xgb,accuracy_lr,accuracy_rf,accuracy_svc,accuracy_mlp]\n",
    "sen = [sensitivity_xgb,sensitivity_lr,sensitivity_rf,sensitivity_svc,sensitivity_mlp]\n",
    "spe = [specificity_xgb,specificity_lr,specificity_rf,specificity_svc,specificity_mlp]\n",
    "\n",
    "fig = plt.figure(figsize =(15,4))\n",
    "w = 0.2\n",
    "bar1 = np.arange(len(x))\n",
    "bar2 = [i+w for i in bar1]\n",
    "bar3 = [i+w for i in bar2]\n",
    "\n",
    "plt.ylim(0.6,1.25)\n",
    "plt.xticks(rotation=45)\n",
    "\n",
    "plt.bar(bar1,acc,0.3,label = 'Accuracy')\n",
    "plt.bar(bar2,sen,0.3,label = 'Sensitivity')\n",
    "plt.bar(bar3,spe,0.3,label = 'Specificity')\n",
    "plt.xticks([r + w for r in range(len(x))],x)\n",
    "\n",
    "plt.xlabel(\"ML Model\")\n",
    "plt.ylabel(\"Performance\")\n",
    "plt.legend();"
   ]
  },
  {
   "cell_type": "markdown",
   "metadata": {},
   "source": [
    "# Limitation\n",
    "The models were trained and validated based on data from the UCI machine learning repository website. However due to the unavailability of the actual clinical diagnosis data, we dont know the acatuall accuracy of these predictions by the ML models."
   ]
  },
  {
   "cell_type": "markdown",
   "metadata": {},
   "source": [
    "# Conclusion "
   ]
  },
  {
   "cell_type": "markdown",
   "metadata": {},
   "source": [
    "In this notebook, I trained ML models using XGBoost,logistic regression,random forest,support vector machines, and multilayer perceptron  algorithms for breast cancer prediction. The aim was to compare the accuracies,sensitivity and specificity of the models.\n",
    "The proposed models performed well on tha data set and predicted new values with a high accuracy rate. Overall, XGBoost model out performed the other models.\n"
   ]
  },
  {
   "cell_type": "code",
   "execution_count": null,
   "metadata": {},
   "outputs": [],
   "source": []
  }
 ],
 "metadata": {
  "kernelspec": {
   "display_name": "Python 3",
   "language": "python",
   "name": "python3"
  },
  "language_info": {
   "codemirror_mode": {
    "name": "ipython",
    "version": 3
   },
   "file_extension": ".py",
   "mimetype": "text/x-python",
   "name": "python",
   "nbconvert_exporter": "python",
   "pygments_lexer": "ipython3",
   "version": "3.8.3"
  },
  "toc": {
   "base_numbering": 1,
   "nav_menu": {},
   "number_sections": false,
   "sideBar": true,
   "skip_h1_title": false,
   "title_cell": "Table of Contents",
   "title_sidebar": "Contents",
   "toc_cell": false,
   "toc_position": {},
   "toc_section_display": true,
   "toc_window_display": false
  }
 },
 "nbformat": 4,
 "nbformat_minor": 4
}
